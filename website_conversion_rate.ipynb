{
 "cells": [
  {
   "cell_type": "markdown",
   "id": "2d0bdf59",
   "metadata": {},
   "source": [
    "# 🔬 Optimizing Website Conversion Rate with CTA Button Design – An A/B Testing Study"
   ]
  },
  {
   "cell_type": "markdown",
   "id": "76c88ccc",
   "metadata": {},
   "source": [
    "## 🎯 Motive (Problem Statement)"
   ]
  },
  {
   "cell_type": "markdown",
   "id": "7c26b6ba",
   "metadata": {},
   "source": [
    "A digital marketing agency wants to improve the conversion rate (number of users who complete a desired action like `signing up`, `purchasing`, or `clicking a button`) on a `client’s landing page`. The client believes that changing the `color` and `wording` of the `Call-To-Action` `(CTA) button` might influence user behavior."
   ]
  },
  {
   "cell_type": "markdown",
   "id": "edb6ca74",
   "metadata": {},
   "source": [
    "## ❓ Key Questions to Answer"
   ]
  },
  {
   "cell_type": "markdown",
   "id": "ea8be941",
   "metadata": {},
   "source": [
    "**1.** Does changing the `CTA button color` (`Green` vs. `Blue`) impact the `conversion rate` significantly?\n",
    "\n",
    "**2.** Does modifying the `CTA text` (`Get Started` vs. `Join Now`) affect `user engagement` and `conversions`?\n",
    "\n",
    "**3.** Is there an interaction effect between `CTA button` `color` and `text` on the `conversion rate`?\n",
    "\n",
    "**4.** Which `CTA variant` (`color + text`) results in the highest `conversion rate`?\n",
    "\n",
    "**5.** How do device type (`Mobile` vs. `Desktop`), `region`, and `age group` affect the success of different `CTA variants`?\n",
    "\n",
    "**6.** What is the optimal combination of `CTA` `color` and `text` for maximizing `conversions`?"
   ]
  },
  {
   "cell_type": "markdown",
   "id": "50f07d2b",
   "metadata": {},
   "source": [
    "## 🧪 Methodology"
   ]
  },
  {
   "cell_type": "markdown",
   "id": "a5946c39",
   "metadata": {},
   "source": [
    "- **Data Collection:**\n",
    "    - Gathered user interaction data from the `landing page`, including `CTA button variants`, `device type`, `region`, and `conversion status`.\n",
    "    - Captured additional metrics such as `engagement time`, `session duration`, and `click-through rate` `(CTR)`.\n",
    "\n",
    "- **Preprocessing:**\n",
    "    - Removed `duplicates` and `handled missing values`.\n",
    "    - Converted data types for `categorical` and `datetime` fields.\n",
    "    - Encoded `categorical variables` into `numerical` representations for analysis.\n",
    "\n",
    "- **Exploratory Data Analysis (EDA):**\n",
    "    - Analyzed conversion rates across `CTA variants`, `device types`, and `regions`.\n",
    "    - Visualized `trends` using `bar charts`, `heatmaps`, and `line charts`.\n",
    "    - Explored `engagement patterns` and `user activity levels`.\n",
    "\n",
    "- **Sample Size and Power Analysis:**\n",
    "    - Calculated the `minimum sample size` required to detect meaningful differences in `conversion rates` with `80%` power and a `5%` significance level.\n",
    "\n",
    "- **Statistical Testing:**\n",
    "    - **Chi-Square Test:** `Assessed the relationship between CTA variants and conversion rates.`\n",
    "    - **Z-Test for Two Proportions:** `Compared conversion rates between two specific CTA variants.`\n",
    "    - **ANOVA:** `Evaluated differences in conversion rates across all CTA variants.`\n",
    "    - **Logistic Regression:** `Identified significant predictors of conversion, including CTA design, device type, and region.`\n",
    "\n",
    "- **Result Interpretation:**\n",
    "    - Determined the most effective `CTA variant` based on `statistical significance` and `effect size`.\n",
    "    - Assessed the impact of `device type` and `regional differences` on `conversion rates`.\n",
    "\n",
    "- **Visualization:**\n",
    "    - Presented insights using `stacked bar charts`, `heatmaps`, and `line charts`.\n",
    "    - Highlighted `key trends` and patterns in `user behavior` and `engagement`.\n",
    "\n",
    "\n",
    "- **Recommendations:**\n",
    "    - Provided actionable insights for `optimizing CTA design`, `mobile experience`, and `regional targeting`.\n"
   ]
  },
  {
   "cell_type": "markdown",
   "id": "dd65bab6",
   "metadata": {},
   "source": [
    "## 🧰 Technologies & Libraries Used"
   ]
  },
  {
   "cell_type": "markdown",
   "id": "e337e578",
   "metadata": {},
   "source": [
    "- **Language:** `Python`\n",
    "\n",
    "- **Core Libraries:** `pandas`, `numpy`, `scipy`, `statsmodels`\n",
    "\n",
    "- **Visualization:** `matplotlib`, `seaborn`, `altair`\n",
    "\n",
    "- **Statistical Analysis:** `statsmodels`, `scipy`\n",
    "\n",
    "- **Data Manipulation:** `pandas`, `numpy`\n",
    "\n",
    "- **Environment:** `Jupyter Notebook`\n",
    "\n",
    "- **Data Format:** `CSV/Excel`"
   ]
  },
  {
   "cell_type": "markdown",
   "id": "928cf221",
   "metadata": {},
   "source": [
    "----"
   ]
  },
  {
   "cell_type": "markdown",
   "id": "be4beab6",
   "metadata": {},
   "source": [
    "## 📝 Data Collection"
   ]
  },
  {
   "cell_type": "markdown",
   "id": "711e5a72",
   "metadata": {},
   "source": [
    "### 📑 Data Summary"
   ]
  },
  {
   "cell_type": "markdown",
   "id": "2c87671f",
   "metadata": {},
   "source": [
    "- **Total Rows:** `5000000`\n",
    "\n",
    "- **Total Columns:** `12`"
   ]
  },
  {
   "cell_type": "markdown",
   "id": "6262f620",
   "metadata": {},
   "source": [
    "### 📊 Categorical Variables"
   ]
  },
  {
   "cell_type": "markdown",
   "id": "e6bc5213",
   "metadata": {},
   "source": [
    "🔸 **User_ID**\n",
    "\n",
    "- **Type:** `Categorical` (UUID String)\n",
    "\n",
    "- **Description:** `Unique identifier for each user`.\n",
    "\n",
    "🔸 **Variant_Group**\n",
    "\n",
    "- **Type:** `Categorical`\n",
    "\n",
    "- **Description:** `CTA button variant shown to the user`.\n",
    "\n",
    "- **Unique Values:**\n",
    "\n",
    "    - `Green_Button_Get_Started`\n",
    "\n",
    "    - `Blue_Button_Get_Started`\n",
    "\n",
    "    - `Green_Button_Join_Now`\n",
    "\n",
    "    - `Blue_Button_Join_Now`\n",
    "\n",
    "🔸 **Converted**\n",
    "\n",
    "- **Type:** `Numeric` (Binary)\n",
    "\n",
    "- **Description:** \n",
    "\n",
    "    - Indicates whether the user converted `(1)` or not `(0)`.\n",
    "    - **Value 1:** `The user completed the desired action (e.g., clicked CTA, signed up, made a purchase)`.\n",
    "    - **Value 0:** `The user did not complete the desired action`.\n",
    "\n",
    "🔸 **Device_Type**\n",
    "\n",
    "- **Type:** `Categorical`\n",
    "\n",
    "- **Description:** `Device used by the user`.\n",
    "\n",
    "- **Unique Values:** \n",
    "    - `Mobile` \n",
    "\n",
    "    - `Desktop`\n",
    "\n",
    "🔸 **Region**\n",
    "\n",
    "- **Type:** `Categorical`\n",
    "\n",
    "- **Description:** `User's geographic region`.\n",
    "\n",
    "- **Unique Values:**\n",
    "\n",
    "    - `North America`\n",
    "\n",
    "    - `Europe`\n",
    "\n",
    "    - `Asia`\n",
    "\n",
    "    - `Rest of the World`\n",
    "\n",
    "🔸 **Engagement_Time_Seconds**\n",
    "\n",
    "- **Type:** `Numeric`\n",
    "\n",
    "- **Description:** `Time (in seconds) that the user engaged with the landing page`.\n",
    "\n",
    "🔸 **Session_Duration_Seconds**\n",
    "\n",
    "- **Type:** `Numeric`\n",
    "\n",
    "- **Description:** `Total session time (in seconds) recorded for the user session`.\n",
    "\n",
    "🔸 **CTR (Click-Through Rate)**\n",
    "\n",
    "- **Type:** `Numeric`\n",
    "\n",
    "- **Description:** `Ratio of users who clicked compared to those who visited the page`.\n",
    "\n",
    "🔸 **Group_ID**\n",
    "\n",
    "- **Type:** `Numeric`\n",
    "\n",
    "- **Description:** `Experiment group identifier for segmented testing`.\n",
    "\n",
    "🔸 **Visit_Date**\n",
    "\n",
    "- **Type:** `Date`\n",
    "\n",
    "- **Description:** `The date when the user visited the page`.\n",
    "\n",
    "🔸 **Visit_Time**\n",
    "\n",
    "- **Type:** `Time` (String)\n",
    "\n",
    "- **Description:** `The time of the day the user visited`.\n",
    "\n",
    "🔸 **Activity_Level**\n",
    "\n",
    "- **Type:** `Numeric`\n",
    "\n",
    "- **Description:** `Activity Level (scaled from 0 to 20)`."
   ]
  },
  {
   "cell_type": "markdown",
   "id": "63da275f",
   "metadata": {},
   "source": [
    "### 📋 Sample Data"
   ]
  },
  {
   "cell_type": "code",
   "execution_count": 4,
   "id": "a7579d7d",
   "metadata": {},
   "outputs": [
    {
     "data": {
      "text/html": [
       "<div>\n",
       "<style scoped>\n",
       "    .dataframe tbody tr th:only-of-type {\n",
       "        vertical-align: middle;\n",
       "    }\n",
       "\n",
       "    .dataframe tbody tr th {\n",
       "        vertical-align: top;\n",
       "    }\n",
       "\n",
       "    .dataframe thead th {\n",
       "        text-align: right;\n",
       "    }\n",
       "</style>\n",
       "<table border=\"1\" class=\"dataframe\">\n",
       "  <thead>\n",
       "    <tr style=\"text-align: right;\">\n",
       "      <th></th>\n",
       "      <th>User_ID</th>\n",
       "      <th>Variant_Group</th>\n",
       "      <th>Converted</th>\n",
       "      <th>Device_Type</th>\n",
       "      <th>Region</th>\n",
       "      <th>Engagement_Time_Seconds</th>\n",
       "      <th>Session_Duration_Seconds</th>\n",
       "      <th>CTR</th>\n",
       "      <th>Group_ID</th>\n",
       "      <th>Visit_Date</th>\n",
       "      <th>Visit_Time</th>\n",
       "      <th>Activity_Level</th>\n",
       "    </tr>\n",
       "  </thead>\n",
       "  <tbody>\n",
       "    <tr>\n",
       "      <th>0</th>\n",
       "      <td>49b686a4-7b26-4058-8cf4-46b0a241793e</td>\n",
       "      <td>Blue_Button_Get_Started</td>\n",
       "      <td>0</td>\n",
       "      <td>Desktop</td>\n",
       "      <td>North America</td>\n",
       "      <td>70.341746</td>\n",
       "      <td>137.043115</td>\n",
       "      <td>33.194960</td>\n",
       "      <td>1</td>\n",
       "      <td>2025-04-23</td>\n",
       "      <td>18:00:00</td>\n",
       "      <td>14</td>\n",
       "    </tr>\n",
       "    <tr>\n",
       "      <th>1</th>\n",
       "      <td>2675ded9-a90a-4f70-95fc-1bf919c9c407</td>\n",
       "      <td>Blue_Button_Join_Now</td>\n",
       "      <td>0</td>\n",
       "      <td>Mobile</td>\n",
       "      <td>Asia</td>\n",
       "      <td>63.000000</td>\n",
       "      <td>251.597974</td>\n",
       "      <td>33.641204</td>\n",
       "      <td>0</td>\n",
       "      <td>2025-04-01</td>\n",
       "      <td>16:00:00</td>\n",
       "      <td>12</td>\n",
       "    </tr>\n",
       "    <tr>\n",
       "      <th>2</th>\n",
       "      <td>ebb2d080-4a96-4fcb-ad11-b0b8a146183f</td>\n",
       "      <td>Green_Button_Join_Now</td>\n",
       "      <td>0</td>\n",
       "      <td>Desktop</td>\n",
       "      <td>Asia</td>\n",
       "      <td>63.000000</td>\n",
       "      <td>157.241931</td>\n",
       "      <td>32.540892</td>\n",
       "      <td>1</td>\n",
       "      <td>2025-04-04</td>\n",
       "      <td>13:00:00</td>\n",
       "      <td>11</td>\n",
       "    </tr>\n",
       "    <tr>\n",
       "      <th>3</th>\n",
       "      <td>639b3381-3ef4-49bd-b294-1878f9d04c75</td>\n",
       "      <td>Green_Button_Join_Now</td>\n",
       "      <td>0</td>\n",
       "      <td>Desktop</td>\n",
       "      <td>Europe</td>\n",
       "      <td>95.900691</td>\n",
       "      <td>305.558975</td>\n",
       "      <td>35.720069</td>\n",
       "      <td>0</td>\n",
       "      <td>2025-04-12</td>\n",
       "      <td>17:00:00</td>\n",
       "      <td>14</td>\n",
       "    </tr>\n",
       "    <tr>\n",
       "      <th>4</th>\n",
       "      <td>e255dfda-934c-4757-8983-c0936a32ddb3</td>\n",
       "      <td>Green_Button_Get_Started</td>\n",
       "      <td>0</td>\n",
       "      <td>Mobile</td>\n",
       "      <td>North America</td>\n",
       "      <td>72.666789</td>\n",
       "      <td>186.434137</td>\n",
       "      <td>34.378063</td>\n",
       "      <td>1</td>\n",
       "      <td>2025-04-11</td>\n",
       "      <td>03:00:00</td>\n",
       "      <td>13</td>\n",
       "    </tr>\n",
       "  </tbody>\n",
       "</table>\n",
       "</div>"
      ],
      "text/plain": [
       "                                User_ID             Variant_Group  Converted  \\\n",
       "0  49b686a4-7b26-4058-8cf4-46b0a241793e   Blue_Button_Get_Started          0   \n",
       "1  2675ded9-a90a-4f70-95fc-1bf919c9c407      Blue_Button_Join_Now          0   \n",
       "2  ebb2d080-4a96-4fcb-ad11-b0b8a146183f     Green_Button_Join_Now          0   \n",
       "3  639b3381-3ef4-49bd-b294-1878f9d04c75     Green_Button_Join_Now          0   \n",
       "4  e255dfda-934c-4757-8983-c0936a32ddb3  Green_Button_Get_Started          0   \n",
       "\n",
       "  Device_Type         Region  Engagement_Time_Seconds  \\\n",
       "0     Desktop  North America                70.341746   \n",
       "1      Mobile           Asia                63.000000   \n",
       "2     Desktop           Asia                63.000000   \n",
       "3     Desktop         Europe                95.900691   \n",
       "4      Mobile  North America                72.666789   \n",
       "\n",
       "   Session_Duration_Seconds        CTR  Group_ID  Visit_Date Visit_Time  \\\n",
       "0                137.043115  33.194960         1  2025-04-23   18:00:00   \n",
       "1                251.597974  33.641204         0  2025-04-01   16:00:00   \n",
       "2                157.241931  32.540892         1  2025-04-04   13:00:00   \n",
       "3                305.558975  35.720069         0  2025-04-12   17:00:00   \n",
       "4                186.434137  34.378063         1  2025-04-11   03:00:00   \n",
       "\n",
       "   Activity_Level  \n",
       "0              14  \n",
       "1              12  \n",
       "2              11  \n",
       "3              14  \n",
       "4              13  "
      ]
     },
     "execution_count": 4,
     "metadata": {},
     "output_type": "execute_result"
    }
   ],
   "source": [
    "import pandas as pd\n",
    "\n",
    "data = pd.read_csv('./data/website_conversion_rate.csv')\n",
    "\n",
    "data.head()"
   ]
  },
  {
   "cell_type": "markdown",
   "id": "2ec8028f",
   "metadata": {},
   "source": [
    "## 📦 Preprocessing"
   ]
  },
  {
   "cell_type": "markdown",
   "id": "6bb6bec2",
   "metadata": {},
   "source": [
    "### Checking For Duplicates"
   ]
  },
  {
   "cell_type": "code",
   "execution_count": 5,
   "id": "3df71f78",
   "metadata": {},
   "outputs": [
    {
     "data": {
      "text/plain": [
       "np.int64(0)"
      ]
     },
     "execution_count": 5,
     "metadata": {},
     "output_type": "execute_result"
    }
   ],
   "source": [
    "data.duplicated(subset=[\"User_ID\"]).sum()"
   ]
  },
  {
   "cell_type": "markdown",
   "id": "08174861",
   "metadata": {},
   "source": [
    "### Checking Null Values "
   ]
  },
  {
   "cell_type": "code",
   "execution_count": 6,
   "id": "360bb2be",
   "metadata": {},
   "outputs": [
    {
     "name": "stdout",
     "output_type": "stream",
     "text": [
      "<class 'pandas.core.frame.DataFrame'>\n",
      "RangeIndex: 5000000 entries, 0 to 4999999\n",
      "Data columns (total 12 columns):\n",
      " #   Column                    Dtype  \n",
      "---  ------                    -----  \n",
      " 0   User_ID                   object \n",
      " 1   Variant_Group             object \n",
      " 2   Converted                 int64  \n",
      " 3   Device_Type               object \n",
      " 4   Region                    object \n",
      " 5   Engagement_Time_Seconds   float64\n",
      " 6   Session_Duration_Seconds  float64\n",
      " 7   CTR                       float64\n",
      " 8   Group_ID                  int64  \n",
      " 9   Visit_Date                object \n",
      " 10  Visit_Time                object \n",
      " 11  Activity_Level            int64  \n",
      "dtypes: float64(3), int64(3), object(6)\n",
      "memory usage: 457.8+ MB\n"
     ]
    }
   ],
   "source": [
    "data.info()"
   ]
  },
  {
   "cell_type": "markdown",
   "id": "0e980668",
   "metadata": {},
   "source": [
    "### Converting Data Types"
   ]
  },
  {
   "cell_type": "code",
   "execution_count": 7,
   "id": "b6417f89",
   "metadata": {},
   "outputs": [
    {
     "name": "stdout",
     "output_type": "stream",
     "text": [
      "User_ID                             object\n",
      "Variant_Group                     category\n",
      "Converted                            int64\n",
      "Device_Type                       category\n",
      "Region                            category\n",
      "Engagement_Time_Seconds            float64\n",
      "Session_Duration_Seconds           float64\n",
      "CTR                                float64\n",
      "Group_ID                             int64\n",
      "Visit_Date                  datetime64[ns]\n",
      "Visit_Time                          object\n",
      "Activity_Level                       int64\n",
      "dtype: object\n"
     ]
    }
   ],
   "source": [
    "data['Variant_Group'] = data['Variant_Group'].astype('category')\n",
    "data['Device_Type'] = data['Device_Type'].astype('category')\n",
    "data['Region'] = data['Region'].astype('category')\n",
    "data['Visit_Date'] = pd.to_datetime(data['Visit_Date'], format='%Y-%m-%d')\n",
    "data['Visit_Time'] = pd.to_datetime(data['Visit_Time'], format='%H:%M:%S').dt.time\n",
    "data['Activity_Level'] = data['Activity_Level'].astype(int)\n",
    "data['Converted'] = data['Converted'].astype(int)\n",
    "data['Session_Duration_Seconds'] = data['Session_Duration_Seconds'].astype(float)\n",
    "data['Engagement_Time_Seconds'] = data['Engagement_Time_Seconds'].astype(float)\n",
    "data['CTR'] = data['CTR'].astype(float)\n",
    "print(data.dtypes)"
   ]
  },
  {
   "cell_type": "code",
   "execution_count": 8,
   "id": "028a6d69",
   "metadata": {},
   "outputs": [
    {
     "name": "stdout",
     "output_type": "stream",
     "text": [
      "<class 'pandas.core.frame.DataFrame'>\n",
      "RangeIndex: 5000000 entries, 0 to 4999999\n",
      "Data columns (total 12 columns):\n",
      " #   Column                    Dtype         \n",
      "---  ------                    -----         \n",
      " 0   User_ID                   object        \n",
      " 1   Variant_Group             category      \n",
      " 2   Converted                 int64         \n",
      " 3   Device_Type               category      \n",
      " 4   Region                    category      \n",
      " 5   Engagement_Time_Seconds   float64       \n",
      " 6   Session_Duration_Seconds  float64       \n",
      " 7   CTR                       float64       \n",
      " 8   Group_ID                  int64         \n",
      " 9   Visit_Date                datetime64[ns]\n",
      " 10  Visit_Time                object        \n",
      " 11  Activity_Level            int64         \n",
      "dtypes: category(3), datetime64[ns](1), float64(3), int64(3), object(2)\n",
      "memory usage: 357.6+ MB\n"
     ]
    }
   ],
   "source": [
    "data.info()"
   ]
  },
  {
   "cell_type": "markdown",
   "id": "1be5c5d7",
   "metadata": {},
   "source": [
    "## Exploratory data analysis (EDA)"
   ]
  },
  {
   "cell_type": "markdown",
   "id": "7376607a",
   "metadata": {},
   "source": [
    "### Conversion of Device Type and Region"
   ]
  },
  {
   "cell_type": "code",
   "execution_count": null,
   "id": "a15acddb",
   "metadata": {},
   "outputs": [
    {
     "data": {
      "image/png": "[encoded data removed]",
      "text/plain": [
       "<Figure size 1800x600 with 2 Axes>"
      ]
     },
     "metadata": {},
     "output_type": "display_data"
    }
   ],
   "source": [
    "import matplotlib.pyplot as plt\n",
    "import seaborn as sns\n",
    "\n",
    "device_conversion = data.groupby('Device_Type', observed=False)['Converted'].value_counts().unstack(fill_value=0)\n",
    "\n",
    "fig, axes = plt.subplots(1, 2, figsize=(18, 6), constrained_layout=True)\n",
    "\n",
    "device_conversion.plot(kind='bar', stacked=True, color=['lightblue', 'orange'], ax=axes[0])\n",
    "axes[0].set_title('Conversions by Device Type', fontsize=14)\n",
    "axes[0].set_xlabel('Device Type', fontsize=12)\n",
    "axes[0].set_ylabel('Count', fontsize=12)\n",
    "axes[0].legend(['No Conversion', 'Conversion'], title='Conversion', loc='upper left')\n",
    "axes[0].tick_params(axis='x', rotation=0)\n",
    "\n",
    "region_conversion = data.groupby('Region', observed=False)['Converted'].value_counts().unstack(fill_value=0)\n",
    "\n",
    "region_conversion.plot(kind='bar', stacked=True, color=['lightblue', 'orange'], ax=axes[1])\n",
    "axes[1].set_title('Conversions by Region', fontsize=14)\n",
    "axes[1].set_xlabel('Region', fontsize=12)\n",
    "axes[1].set_ylabel('Count', fontsize=12)\n",
    "axes[1].legend(['No Conversion', 'Conversion'], title='Conversion', loc='upper left')\n",
    "axes[1].tick_params(axis='x', rotation=45)\n",
    "\n",
    "plt.show()\n"
   ]
  },
  {
   "cell_type": "markdown",
   "id": "7ab3f7cb",
   "metadata": {},
   "source": [
    "### Average Conversion Rate by CTA Variant"
   ]
  },
  {
   "cell_type": "code",
   "execution_count": null,
   "id": "2695d0a3",
   "metadata": {},
   "outputs": [
    {
     "name": "stderr",
     "output_type": "stream",
     "text": [
      "C:\\Users\\NIHAL\\AppData\\Local\\Temp\\ipykernel_14876\\4159054190.py:9: FutureWarning: The default of observed=False is deprecated and will be changed to True in a future version of pandas. Pass observed=False to retain current behavior or observed=True to adopt the future default and silence this warning.\n",
      "  variant_agg = data.groupby('Variant_Group').agg(\n"
     ]
    },
    {
     "data": {
      "text/html": [
       "\n",
       "<style>\n",
       "  #altair-viz-85236fb01a6c46e182a923c5fc4356ca.vega-embed {\n",
       "    width: 100%;\n",
       "    display: flex;\n",
       "  }\n",
       "\n",
       "  #altair-viz-85236fb01a6c46e182a923c5fc4356ca.vega-embed details,\n",
       "  #altair-viz-85236fb01a6c46e182a923c5fc4356ca.vega-embed details summary {\n",
       "    position: relative;\n",
       "  }\n",
       "</style>\n",
       "<div id=\"altair-viz-85236fb01a6c46e182a923c5fc4356ca\"></div>\n",
       "<script type=\"text/javascript\">\n",
       "  var VEGA_DEBUG = (typeof VEGA_DEBUG == \"undefined\") ? {} : VEGA_DEBUG;\n",
       "  (function(spec, embedOpt){\n",
       "    let outputDiv = document.currentScript.previousElementSibling;\n",
       "    if (outputDiv.id !== \"altair-viz-85236fb01a6c46e182a923c5fc4356ca\") {\n",
       "      outputDiv = document.getElementById(\"altair-viz-85236fb01a6c46e182a923c5fc4356ca\");\n",
       "    }\n",
       "\n",
       "    const paths = {\n",
       "      \"vega\": \"https://cdn.jsdelivr.net/npm/vega@5?noext\",\n",
       "      \"vega-lib\": \"https://cdn.jsdelivr.net/npm/vega-lib?noext\",\n",
       "      \"vega-lite\": \"https://cdn.jsdelivr.net/npm/vega-lite@5.20.1?noext\",\n",
       "      \"vega-embed\": \"https://cdn.jsdelivr.net/npm/vega-embed@6?noext\",\n",
       "    };\n",
       "\n",
       "    function maybeLoadScript(lib, version) {\n",
       "      var key = `${lib.replace(\"-\", \"\")}_version`;\n",
       "      return (VEGA_DEBUG[key] == version) ?\n",
       "        Promise.resolve(paths[lib]) :\n",
       "        new Promise(function(resolve, reject) {\n",
       "          var s = document.createElement('script');\n",
       "          document.getElementsByTagName(\"head\")[0].appendChild(s);\n",
       "          s.async = true;\n",
       "          s.onload = () => {\n",
       "            VEGA_DEBUG[key] = version;\n",
       "            return resolve(paths[lib]);\n",
       "          };\n",
       "          s.onerror = () => reject(`Error loading script: ${paths[lib]}`);\n",
       "          s.src = paths[lib];\n",
       "        });\n",
       "    }\n",
       "\n",
       "    function showError(err) {\n",
       "      outputDiv.innerHTML = `<div class=\"error\" style=\"color:red;\">${err}</div>`;\n",
       "      throw err;\n",
       "    }\n",
       "\n",
       "    function displayChart(vegaEmbed) {\n",
       "      vegaEmbed(outputDiv, spec, embedOpt)\n",
       "        .catch(err => showError(`Javascript Error: ${err.message}<br>This usually means there's a typo in your chart specification. See the javascript console for the full traceback.`));\n",
       "    }\n",
       "\n",
       "    if(typeof define === \"function\" && define.amd) {\n",
       "      requirejs.config({paths});\n",
       "      let deps = [\"vega-embed\"];\n",
       "      require(deps, displayChart, err => showError(`Error loading script: ${err.message}`));\n",
       "    } else {\n",
       "      maybeLoadScript(\"vega\", \"5\")\n",
       "        .then(() => maybeLoadScript(\"vega-lite\", \"5.20.1\"))\n",
       "        .then(() => maybeLoadScript(\"vega-embed\", \"6\"))\n",
       "        .catch(showError)\n",
       "        .then(() => displayChart(vegaEmbed));\n",
       "    }\n",
       "  })({\"config\": {\"view\": {\"continuousWidth\": 300, \"continuousHeight\": 300}}, \"data\": {\"name\": \"data-9971dd0e306cfa6629144783351302ad\"}, \"mark\": {\"type\": \"bar\"}, \"encoding\": {\"color\": {\"field\": \"Variant_Group\", \"type\": \"nominal\"}, \"tooltip\": [{\"field\": \"Variant_Group\", \"type\": \"nominal\"}, {\"field\": \"avg_conversion\", \"type\": \"quantitative\"}, {\"field\": \"avg_ctr\", \"type\": \"quantitative\"}, {\"field\": \"count_users\", \"type\": \"quantitative\"}], \"x\": {\"field\": \"Variant_Group\", \"title\": \"Variant Group\", \"type\": \"nominal\"}, \"y\": {\"field\": \"avg_conversion\", \"title\": \"Average Conversion Rate\", \"type\": \"quantitative\"}}, \"height\": 400, \"title\": \"Average Conversion Rate by CTA Variant\", \"width\": 600, \"$schema\": \"https://vega.github.io/schema/vega-lite/v5.20.1.json\", \"datasets\": {\"data-9971dd0e306cfa6629144783351302ad\": [{\"Variant_Group\": \"Blue_Button_Get_Started\", \"avg_conversion\": 0.07994891300264786, \"avg_ctr\": 34.0016031109009, \"count_users\": 1251199}, {\"Variant_Group\": \"Blue_Button_Join_Now\", \"avg_conversion\": 0.14018871110904793, \"avg_ctr\": 34.0009071568043, \"count_users\": 1249423}, {\"Variant_Group\": \"Green_Button_Get_Started\", \"avg_conversion\": 0.12026544408497668, \"avg_ctr\": 34.00088919910243, \"count_users\": 1249378}, {\"Variant_Group\": \"Green_Button_Join_Now\", \"avg_conversion\": 0.1807256, \"avg_ctr\": 34.0014200919113, \"count_users\": 1250000}]}}, {\"mode\": \"vega-lite\"});\n",
       "</script>"
      ],
      "text/plain": [
       "alt.Chart(...)"
      ]
     },
     "execution_count": 73,
     "metadata": {},
     "output_type": "execute_result"
    }
   ],
   "source": [
    "import altair as alt\n",
    "import pandas as pd\n",
    "import numpy as np\n",
    "\n",
    "\n",
    "variant_agg = data.groupby('Variant_Group').agg(\n",
    "    avg_conversion=('Converted', 'mean'),\n",
    "    avg_ctr=('CTR', 'mean'),\n",
    "    count_users=('User_ID', 'count')\n",
    ").reset_index()\n",
    "\n",
    "variant_chart = alt.Chart(variant_agg).mark_bar().encode(\n",
    "    x=alt.X('Variant_Group:N', title='Variant Group'),\n",
    "    y=alt.Y('avg_conversion:Q', title='Average Conversion Rate'),\n",
    "    color='Variant_Group:N',\n",
    "    tooltip=['Variant_Group', 'avg_conversion', 'avg_ctr', 'count_users']\n",
    ").properties(\n",
    "    width=600, \n",
    "    height=400, \n",
    "    title='Average Conversion Rate by CTA Variant'\n",
    ")\n",
    "\n",
    "variant_chart\n"
   ]
  },
  {
   "cell_type": "markdown",
   "id": "8a50b4aa",
   "metadata": {},
   "source": [
    "### Conversion Rate Over Time"
   ]
  },
  {
   "cell_type": "code",
   "execution_count": null,
   "id": "5f8c939b",
   "metadata": {},
   "outputs": [
    {
     "data": {
      "text/html": [
       "\n",
       "<style>\n",
       "  #altair-viz-42a012ce0dbe4e0e8dd67585684a011d.vega-embed {\n",
       "    width: 100%;\n",
       "    display: flex;\n",
       "  }\n",
       "\n",
       "  #altair-viz-42a012ce0dbe4e0e8dd67585684a011d.vega-embed details,\n",
       "  #altair-viz-42a012ce0dbe4e0e8dd67585684a011d.vega-embed details summary {\n",
       "    position: relative;\n",
       "  }\n",
       "</style>\n",
       "<div id=\"altair-viz-42a012ce0dbe4e0e8dd67585684a011d\"></div>\n",
       "<script type=\"text/javascript\">\n",
       "  var VEGA_DEBUG = (typeof VEGA_DEBUG == \"undefined\") ? {} : VEGA_DEBUG;\n",
       "  (function(spec, embedOpt){\n",
       "    let outputDiv = document.currentScript.previousElementSibling;\n",
       "    if (outputDiv.id !== \"altair-viz-42a012ce0dbe4e0e8dd67585684a011d\") {\n",
       "      outputDiv = document.getElementById(\"altair-viz-42a012ce0dbe4e0e8dd67585684a011d\");\n",
       "    }\n",
       "\n",
       "    const paths = {\n",
       "      \"vega\": \"https://cdn.jsdelivr.net/npm/vega@5?noext\",\n",
       "      \"vega-lib\": \"https://cdn.jsdelivr.net/npm/vega-lib?noext\",\n",
       "      \"vega-lite\": \"https://cdn.jsdelivr.net/npm/vega-lite@5.20.1?noext\",\n",
       "      \"vega-embed\": \"https://cdn.jsdelivr.net/npm/vega-embed@6?noext\",\n",
       "    };\n",
       "\n",
       "    function maybeLoadScript(lib, version) {\n",
       "      var key = `${lib.replace(\"-\", \"\")}_version`;\n",
       "      return (VEGA_DEBUG[key] == version) ?\n",
       "        Promise.resolve(paths[lib]) :\n",
       "        new Promise(function(resolve, reject) {\n",
       "          var s = document.createElement('script');\n",
       "          document.getElementsByTagName(\"head\")[0].appendChild(s);\n",
       "          s.async = true;\n",
       "          s.onload = () => {\n",
       "            VEGA_DEBUG[key] = version;\n",
       "            return resolve(paths[lib]);\n",
       "          };\n",
       "          s.onerror = () => reject(`Error loading script: ${paths[lib]}`);\n",
       "          s.src = paths[lib];\n",
       "        });\n",
       "    }\n",
       "\n",
       "    function showError(err) {\n",
       "      outputDiv.innerHTML = `<div class=\"error\" style=\"color:red;\">${err}</div>`;\n",
       "      throw err;\n",
       "    }\n",
       "\n",
       "    function displayChart(vegaEmbed) {\n",
       "      vegaEmbed(outputDiv, spec, embedOpt)\n",
       "        .catch(err => showError(`Javascript Error: ${err.message}<br>This usually means there's a typo in your chart specification. See the javascript console for the full traceback.`));\n",
       "    }\n",
       "\n",
       "    if(typeof define === \"function\" && define.amd) {\n",
       "      requirejs.config({paths});\n",
       "      let deps = [\"vega-embed\"];\n",
       "      require(deps, displayChart, err => showError(`Error loading script: ${err.message}`));\n",
       "    } else {\n",
       "      maybeLoadScript(\"vega\", \"5\")\n",
       "        .then(() => maybeLoadScript(\"vega-lite\", \"5.20.1\"))\n",
       "        .then(() => maybeLoadScript(\"vega-embed\", \"6\"))\n",
       "        .catch(showError)\n",
       "        .then(() => displayChart(vegaEmbed));\n",
       "    }\n",
       "  })({\"config\": {\"view\": {\"continuousWidth\": 300, \"continuousHeight\": 300}}, \"data\": {\"name\": \"data-2ec6df11e4badcb3b7310c2aa206ce69\"}, \"mark\": {\"type\": \"line\", \"point\": true}, \"encoding\": {\"tooltip\": [{\"field\": \"Visit_Date\", \"type\": \"temporal\"}, {\"field\": \"Converted\", \"type\": \"quantitative\"}], \"x\": {\"field\": \"Visit_Date\", \"title\": \"Date\", \"type\": \"temporal\"}, \"y\": {\"field\": \"Converted\", \"title\": \"Conversion Rate\", \"type\": \"quantitative\"}}, \"height\": 400, \"title\": \"Conversion Rate Over Time\", \"width\": 600, \"$schema\": \"https://vega.github.io/schema/vega-lite/v5.20.1.json\", \"datasets\": {\"data-2ec6df11e4badcb3b7310c2aa206ce69\": [{\"Visit_Date\": \"2025-04-01T00:00:00\", \"Converted\": 0.1297686765263557}, {\"Visit_Date\": \"2025-04-02T00:00:00\", \"Converted\": 0.13070387361220445}, {\"Visit_Date\": \"2025-04-03T00:00:00\", \"Converted\": 0.12918906895111193}, {\"Visit_Date\": \"2025-04-04T00:00:00\", \"Converted\": 0.13061266570081337}, {\"Visit_Date\": \"2025-04-05T00:00:00\", \"Converted\": 0.13061387982223954}, {\"Visit_Date\": \"2025-04-06T00:00:00\", \"Converted\": 0.1298661997708752}, {\"Visit_Date\": \"2025-04-07T00:00:00\", \"Converted\": 0.13095694529195445}, {\"Visit_Date\": \"2025-04-08T00:00:00\", \"Converted\": 0.13043407891755412}, {\"Visit_Date\": \"2025-04-09T00:00:00\", \"Converted\": 0.1320188899455347}, {\"Visit_Date\": \"2025-04-10T00:00:00\", \"Converted\": 0.1293318637144617}, {\"Visit_Date\": \"2025-04-11T00:00:00\", \"Converted\": 0.13048510767792806}, {\"Visit_Date\": \"2025-04-12T00:00:00\", \"Converted\": 0.13006044172693734}, {\"Visit_Date\": \"2025-04-13T00:00:00\", \"Converted\": 0.13133768051471784}, {\"Visit_Date\": \"2025-04-14T00:00:00\", \"Converted\": 0.12934122704476037}, {\"Visit_Date\": \"2025-04-15T00:00:00\", \"Converted\": 0.12877917064283856}, {\"Visit_Date\": \"2025-04-16T00:00:00\", \"Converted\": 0.1305959648439191}, {\"Visit_Date\": \"2025-04-17T00:00:00\", \"Converted\": 0.1313767388653263}, {\"Visit_Date\": \"2025-04-18T00:00:00\", \"Converted\": 0.1310073837385034}, {\"Visit_Date\": \"2025-04-19T00:00:00\", \"Converted\": 0.1304482192137323}, {\"Visit_Date\": \"2025-04-20T00:00:00\", \"Converted\": 0.13034646324399377}, {\"Visit_Date\": \"2025-04-21T00:00:00\", \"Converted\": 0.12919777884714165}, {\"Visit_Date\": \"2025-04-22T00:00:00\", \"Converted\": 0.13073813461309813}, {\"Visit_Date\": \"2025-04-23T00:00:00\", \"Converted\": 0.13048635824436536}, {\"Visit_Date\": \"2025-04-24T00:00:00\", \"Converted\": 0.13115444415651722}, {\"Visit_Date\": \"2025-04-25T00:00:00\", \"Converted\": 0.12999287887615718}, {\"Visit_Date\": \"2025-04-26T00:00:00\", \"Converted\": 0.12879392971246006}, {\"Visit_Date\": \"2025-04-27T00:00:00\", \"Converted\": 0.12980399380234686}, {\"Visit_Date\": \"2025-04-28T00:00:00\", \"Converted\": 0.12673139158576052}]}}, {\"mode\": \"vega-lite\"});\n",
       "</script>"
      ],
      "text/plain": [
       "alt.Chart(...)"
      ]
     },
     "execution_count": 71,
     "metadata": {},
     "output_type": "execute_result"
    }
   ],
   "source": [
    "conversion_rate_time = data.groupby('Visit_Date')['Converted'].mean().reset_index()\n",
    "line_chart = alt.Chart(conversion_rate_time).mark_line(point=True).encode(\n",
    "    x=alt.X('Visit_Date:T', title='Date'),\n",
    "    y=alt.Y('Converted:Q', title='Conversion Rate'),\n",
    "    tooltip=['Visit_Date', 'Converted']\n",
    ").properties(\n",
    "    width=600,\n",
    "    height=400,\n",
    "    title='Conversion Rate Over Time'\n",
    ")\n",
    "line_chart"
   ]
  },
  {
   "cell_type": "markdown",
   "id": "0c43a216",
   "metadata": {},
   "source": [
    "### Conversion Rate Distribution by Device Type and Region"
   ]
  },
  {
   "cell_type": "code",
   "execution_count": null,
   "id": "77cf8bcc",
   "metadata": {},
   "outputs": [
    {
     "name": "stderr",
     "output_type": "stream",
     "text": [
      "C:\\Users\\NIHAL\\AppData\\Local\\Temp\\ipykernel_14876\\2603918183.py:1: FutureWarning: The default of observed=False is deprecated and will be changed to True in a future version of pandas. Pass observed=False to retain current behavior or observed=True to adopt the future default and silence this warning.\n",
      "  device_region_conversion = data.groupby(['Device_Type', 'Region'])['Converted'].mean().reset_index()\n"
     ]
    },
    {
     "data": {
      "text/html": [
       "\n",
       "<style>\n",
       "  #altair-viz-07d2a7909f834db4ba64447e4e384587.vega-embed {\n",
       "    width: 100%;\n",
       "    display: flex;\n",
       "  }\n",
       "\n",
       "  #altair-viz-07d2a7909f834db4ba64447e4e384587.vega-embed details,\n",
       "  #altair-viz-07d2a7909f834db4ba64447e4e384587.vega-embed details summary {\n",
       "    position: relative;\n",
       "  }\n",
       "</style>\n",
       "<div id=\"altair-viz-07d2a7909f834db4ba64447e4e384587\"></div>\n",
       "<script type=\"text/javascript\">\n",
       "  var VEGA_DEBUG = (typeof VEGA_DEBUG == \"undefined\") ? {} : VEGA_DEBUG;\n",
       "  (function(spec, embedOpt){\n",
       "    let outputDiv = document.currentScript.previousElementSibling;\n",
       "    if (outputDiv.id !== \"altair-viz-07d2a7909f834db4ba64447e4e384587\") {\n",
       "      outputDiv = document.getElementById(\"altair-viz-07d2a7909f834db4ba64447e4e384587\");\n",
       "    }\n",
       "\n",
       "    const paths = {\n",
       "      \"vega\": \"https://cdn.jsdelivr.net/npm/vega@5?noext\",\n",
       "      \"vega-lib\": \"https://cdn.jsdelivr.net/npm/vega-lib?noext\",\n",
       "      \"vega-lite\": \"https://cdn.jsdelivr.net/npm/vega-lite@5.20.1?noext\",\n",
       "      \"vega-embed\": \"https://cdn.jsdelivr.net/npm/vega-embed@6?noext\",\n",
       "    };\n",
       "\n",
       "    function maybeLoadScript(lib, version) {\n",
       "      var key = `${lib.replace(\"-\", \"\")}_version`;\n",
       "      return (VEGA_DEBUG[key] == version) ?\n",
       "        Promise.resolve(paths[lib]) :\n",
       "        new Promise(function(resolve, reject) {\n",
       "          var s = document.createElement('script');\n",
       "          document.getElementsByTagName(\"head\")[0].appendChild(s);\n",
       "          s.async = true;\n",
       "          s.onload = () => {\n",
       "            VEGA_DEBUG[key] = version;\n",
       "            return resolve(paths[lib]);\n",
       "          };\n",
       "          s.onerror = () => reject(`Error loading script: ${paths[lib]}`);\n",
       "          s.src = paths[lib];\n",
       "        });\n",
       "    }\n",
       "\n",
       "    function showError(err) {\n",
       "      outputDiv.innerHTML = `<div class=\"error\" style=\"color:red;\">${err}</div>`;\n",
       "      throw err;\n",
       "    }\n",
       "\n",
       "    function displayChart(vegaEmbed) {\n",
       "      vegaEmbed(outputDiv, spec, embedOpt)\n",
       "        .catch(err => showError(`Javascript Error: ${err.message}<br>This usually means there's a typo in your chart specification. See the javascript console for the full traceback.`));\n",
       "    }\n",
       "\n",
       "    if(typeof define === \"function\" && define.amd) {\n",
       "      requirejs.config({paths});\n",
       "      let deps = [\"vega-embed\"];\n",
       "      require(deps, displayChart, err => showError(`Error loading script: ${err.message}`));\n",
       "    } else {\n",
       "      maybeLoadScript(\"vega\", \"5\")\n",
       "        .then(() => maybeLoadScript(\"vega-lite\", \"5.20.1\"))\n",
       "        .then(() => maybeLoadScript(\"vega-embed\", \"6\"))\n",
       "        .catch(showError)\n",
       "        .then(() => displayChart(vegaEmbed));\n",
       "    }\n",
       "  })({\"config\": {\"view\": {\"continuousWidth\": 300, \"continuousHeight\": 300}}, \"data\": {\"name\": \"data-6b7533fcf7579a1d2d1294ddadb363b4\"}, \"mark\": {\"type\": \"rect\"}, \"encoding\": {\"color\": {\"field\": \"Converted\", \"scale\": {\"scheme\": \"greens\"}, \"title\": \"Avg Conversion Rate\", \"type\": \"quantitative\"}, \"tooltip\": [{\"field\": \"Device_Type\", \"type\": \"nominal\"}, {\"field\": \"Region\", \"type\": \"nominal\"}, {\"field\": \"Converted\", \"type\": \"quantitative\"}], \"x\": {\"field\": \"Device_Type\", \"title\": \"Device Type\", \"type\": \"nominal\"}, \"y\": {\"field\": \"Region\", \"title\": \"Region\", \"type\": \"nominal\"}}, \"height\": 400, \"title\": \"Conversion Rate by Device Type and Region\", \"width\": 600, \"$schema\": \"https://vega.github.io/schema/vega-lite/v5.20.1.json\", \"datasets\": {\"data-6b7533fcf7579a1d2d1294ddadb363b4\": [{\"Device_Type\": \"Desktop\", \"Region\": \"Asia\", \"Converted\": 0.13052137492056026}, {\"Device_Type\": \"Desktop\", \"Region\": \"Europe\", \"Converted\": 0.13049882089611894}, {\"Device_Type\": \"Desktop\", \"Region\": \"North America\", \"Converted\": 0.13101995435660366}, {\"Device_Type\": \"Desktop\", \"Region\": \"Rest of the World\", \"Converted\": 0.1303962441314554}, {\"Device_Type\": \"Mobile\", \"Region\": \"Asia\", \"Converted\": 0.12977877747812647}, {\"Device_Type\": \"Mobile\", \"Region\": \"Europe\", \"Converted\": 0.13017722301740245}, {\"Device_Type\": \"Mobile\", \"Region\": \"North America\", \"Converted\": 0.12983710561923067}, {\"Device_Type\": \"Mobile\", \"Region\": \"Rest of the World\", \"Converted\": 0.1303172026557739}]}}, {\"mode\": \"vega-lite\"});\n",
       "</script>"
      ],
      "text/plain": [
       "alt.Chart(...)"
      ]
     },
     "metadata": {},
     "output_type": "display_data"
    }
   ],
   "source": [
    "device_region_conversion = data.groupby(['Device_Type', 'Region'])['Converted'].mean().reset_index()\n",
    "\n",
    "\n",
    "heatmap_chart = alt.Chart(device_region_conversion).mark_rect().encode(\n",
    "    x=alt.X('Device_Type:N', title='Device Type'),\n",
    "    y=alt.Y('Region:N', title='Region'),\n",
    "    color=alt.Color('Converted:Q', scale=alt.Scale(scheme='greens'), title='Avg Conversion Rate'),\n",
    "    tooltip=['Device_Type:N', 'Region:N', 'Converted:Q']\n",
    ").properties(\n",
    "    title='Conversion Rate by Device Type and Region',\n",
    "    width=600,  \n",
    "    height=400  \n",
    ")\n",
    "\n",
    "heatmap_chart.show()\n"
   ]
  },
  {
   "cell_type": "markdown",
   "id": "e98e0d5b",
   "metadata": {},
   "source": [
    "### Conversion by CTA Variant and Device Type"
   ]
  },
  {
   "cell_type": "code",
   "execution_count": null,
   "id": "aa187924",
   "metadata": {},
   "outputs": [
    {
     "name": "stderr",
     "output_type": "stream",
     "text": [
      "C:\\Users\\NIHAL\\AppData\\Local\\Temp\\ipykernel_14876\\574372096.py:2: FutureWarning: The default of observed=False is deprecated and will be changed to True in a future version of pandas. Pass observed=False to retain current behavior or observed=True to adopt the future default and silence this warning.\n",
      "  cta_device_conversion = data.groupby(['Variant_Group', 'Device_Type'])['Converted'].sum().reset_index()\n"
     ]
    },
    {
     "data": {
      "text/html": [
       "\n",
       "<style>\n",
       "  #altair-viz-0cea9868b7134074b45bcae93218c23e.vega-embed {\n",
       "    width: 100%;\n",
       "    display: flex;\n",
       "  }\n",
       "\n",
       "  #altair-viz-0cea9868b7134074b45bcae93218c23e.vega-embed details,\n",
       "  #altair-viz-0cea9868b7134074b45bcae93218c23e.vega-embed details summary {\n",
       "    position: relative;\n",
       "  }\n",
       "</style>\n",
       "<div id=\"altair-viz-0cea9868b7134074b45bcae93218c23e\"></div>\n",
       "<script type=\"text/javascript\">\n",
       "  var VEGA_DEBUG = (typeof VEGA_DEBUG == \"undefined\") ? {} : VEGA_DEBUG;\n",
       "  (function(spec, embedOpt){\n",
       "    let outputDiv = document.currentScript.previousElementSibling;\n",
       "    if (outputDiv.id !== \"altair-viz-0cea9868b7134074b45bcae93218c23e\") {\n",
       "      outputDiv = document.getElementById(\"altair-viz-0cea9868b7134074b45bcae93218c23e\");\n",
       "    }\n",
       "\n",
       "    const paths = {\n",
       "      \"vega\": \"https://cdn.jsdelivr.net/npm/vega@5?noext\",\n",
       "      \"vega-lib\": \"https://cdn.jsdelivr.net/npm/vega-lib?noext\",\n",
       "      \"vega-lite\": \"https://cdn.jsdelivr.net/npm/vega-lite@5.20.1?noext\",\n",
       "      \"vega-embed\": \"https://cdn.jsdelivr.net/npm/vega-embed@6?noext\",\n",
       "    };\n",
       "\n",
       "    function maybeLoadScript(lib, version) {\n",
       "      var key = `${lib.replace(\"-\", \"\")}_version`;\n",
       "      return (VEGA_DEBUG[key] == version) ?\n",
       "        Promise.resolve(paths[lib]) :\n",
       "        new Promise(function(resolve, reject) {\n",
       "          var s = document.createElement('script');\n",
       "          document.getElementsByTagName(\"head\")[0].appendChild(s);\n",
       "          s.async = true;\n",
       "          s.onload = () => {\n",
       "            VEGA_DEBUG[key] = version;\n",
       "            return resolve(paths[lib]);\n",
       "          };\n",
       "          s.onerror = () => reject(`Error loading script: ${paths[lib]}`);\n",
       "          s.src = paths[lib];\n",
       "        });\n",
       "    }\n",
       "\n",
       "    function showError(err) {\n",
       "      outputDiv.innerHTML = `<div class=\"error\" style=\"color:red;\">${err}</div>`;\n",
       "      throw err;\n",
       "    }\n",
       "\n",
       "    function displayChart(vegaEmbed) {\n",
       "      vegaEmbed(outputDiv, spec, embedOpt)\n",
       "        .catch(err => showError(`Javascript Error: ${err.message}<br>This usually means there's a typo in your chart specification. See the javascript console for the full traceback.`));\n",
       "    }\n",
       "\n",
       "    if(typeof define === \"function\" && define.amd) {\n",
       "      requirejs.config({paths});\n",
       "      let deps = [\"vega-embed\"];\n",
       "      require(deps, displayChart, err => showError(`Error loading script: ${err.message}`));\n",
       "    } else {\n",
       "      maybeLoadScript(\"vega\", \"5\")\n",
       "        .then(() => maybeLoadScript(\"vega-lite\", \"5.20.1\"))\n",
       "        .then(() => maybeLoadScript(\"vega-embed\", \"6\"))\n",
       "        .catch(showError)\n",
       "        .then(() => displayChart(vegaEmbed));\n",
       "    }\n",
       "  })({\"config\": {\"view\": {\"continuousWidth\": 300, \"continuousHeight\": 300}}, \"data\": {\"name\": \"data-e7cc5adb36e9b6e43427ef1190eca634\"}, \"mark\": {\"type\": \"bar\"}, \"encoding\": {\"color\": {\"field\": \"Device_Type\", \"type\": \"nominal\"}, \"tooltip\": [{\"field\": \"Variant_Group\", \"type\": \"nominal\"}, {\"field\": \"Device_Type\", \"type\": \"nominal\"}, {\"field\": \"Converted\", \"type\": \"quantitative\"}], \"x\": {\"field\": \"Variant_Group\", \"title\": \"CTA Variant\", \"type\": \"nominal\"}, \"y\": {\"field\": \"Converted\", \"title\": \"Total Conversions\", \"type\": \"quantitative\"}}, \"height\": 400, \"title\": \"Conversion by CTA Variant and Device Type\", \"width\": 600, \"$schema\": \"https://vega.github.io/schema/vega-lite/v5.20.1.json\", \"datasets\": {\"data-e7cc5adb36e9b6e43427ef1190eca634\": [{\"Variant_Group\": \"Blue_Button_Get_Started\", \"Device_Type\": \"Desktop\", \"Converted\": 40148}, {\"Variant_Group\": \"Blue_Button_Get_Started\", \"Device_Type\": \"Mobile\", \"Converted\": 59884}, {\"Variant_Group\": \"Blue_Button_Join_Now\", \"Device_Type\": \"Desktop\", \"Converted\": 70449}, {\"Variant_Group\": \"Blue_Button_Join_Now\", \"Device_Type\": \"Mobile\", \"Converted\": 104706}, {\"Variant_Group\": \"Green_Button_Get_Started\", \"Device_Type\": \"Desktop\", \"Converted\": 60178}, {\"Variant_Group\": \"Green_Button_Get_Started\", \"Device_Type\": \"Mobile\", \"Converted\": 90079}, {\"Variant_Group\": \"Green_Button_Join_Now\", \"Device_Type\": \"Desktop\", \"Converted\": 90566}, {\"Variant_Group\": \"Green_Button_Join_Now\", \"Device_Type\": \"Mobile\", \"Converted\": 135341}]}}, {\"mode\": \"vega-lite\"});\n",
       "</script>"
      ],
      "text/plain": [
       "alt.Chart(...)"
      ]
     },
     "metadata": {},
     "output_type": "display_data"
    }
   ],
   "source": [
    "cta_device_conversion = data.groupby(['Variant_Group', 'Device_Type'])['Converted'].sum().reset_index()\n",
    "\n",
    "stacked_bar_chart = alt.Chart(cta_device_conversion).mark_bar().encode(\n",
    "    x=alt.X('Variant_Group:N', title='CTA Variant'),\n",
    "    y=alt.Y('Converted:Q', title='Total Conversions'),\n",
    "    color='Device_Type:N',\n",
    "    tooltip=['Variant_Group:N', 'Device_Type:N', 'Converted:Q']\n",
    ").properties(\n",
    "    title='Conversion by CTA Variant and Device Type',\n",
    "    width=600,  \n",
    "    height=400\n",
    ")\n",
    "\n",
    "stacked_bar_chart.show()\n"
   ]
  },
  {
   "cell_type": "markdown",
   "id": "7322b5ff",
   "metadata": {},
   "source": [
    "### Group by CTA Variant and Region"
   ]
  },
  {
   "cell_type": "code",
   "execution_count": null,
   "id": "67eae629",
   "metadata": {},
   "outputs": [
    {
     "name": "stderr",
     "output_type": "stream",
     "text": [
      "C:\\Users\\NIHAL\\AppData\\Local\\Temp\\ipykernel_14876\\3895880838.py:2: FutureWarning: The default of observed=False is deprecated and will be changed to True in a future version of pandas. Pass observed=False to retain current behavior or observed=True to adopt the future default and silence this warning.\n",
      "  cta_region_conversion = data.groupby(['Variant_Group', 'Region'])['Converted'].sum().reset_index()\n"
     ]
    },
    {
     "data": {
      "text/html": [
       "\n",
       "<style>\n",
       "  #altair-viz-fcdc3469787746e7a0d7197a27c2f037.vega-embed {\n",
       "    width: 100%;\n",
       "    display: flex;\n",
       "  }\n",
       "\n",
       "  #altair-viz-fcdc3469787746e7a0d7197a27c2f037.vega-embed details,\n",
       "  #altair-viz-fcdc3469787746e7a0d7197a27c2f037.vega-embed details summary {\n",
       "    position: relative;\n",
       "  }\n",
       "</style>\n",
       "<div id=\"altair-viz-fcdc3469787746e7a0d7197a27c2f037\"></div>\n",
       "<script type=\"text/javascript\">\n",
       "  var VEGA_DEBUG = (typeof VEGA_DEBUG == \"undefined\") ? {} : VEGA_DEBUG;\n",
       "  (function(spec, embedOpt){\n",
       "    let outputDiv = document.currentScript.previousElementSibling;\n",
       "    if (outputDiv.id !== \"altair-viz-fcdc3469787746e7a0d7197a27c2f037\") {\n",
       "      outputDiv = document.getElementById(\"altair-viz-fcdc3469787746e7a0d7197a27c2f037\");\n",
       "    }\n",
       "\n",
       "    const paths = {\n",
       "      \"vega\": \"https://cdn.jsdelivr.net/npm/vega@5?noext\",\n",
       "      \"vega-lib\": \"https://cdn.jsdelivr.net/npm/vega-lib?noext\",\n",
       "      \"vega-lite\": \"https://cdn.jsdelivr.net/npm/vega-lite@5.20.1?noext\",\n",
       "      \"vega-embed\": \"https://cdn.jsdelivr.net/npm/vega-embed@6?noext\",\n",
       "    };\n",
       "\n",
       "    function maybeLoadScript(lib, version) {\n",
       "      var key = `${lib.replace(\"-\", \"\")}_version`;\n",
       "      return (VEGA_DEBUG[key] == version) ?\n",
       "        Promise.resolve(paths[lib]) :\n",
       "        new Promise(function(resolve, reject) {\n",
       "          var s = document.createElement('script');\n",
       "          document.getElementsByTagName(\"head\")[0].appendChild(s);\n",
       "          s.async = true;\n",
       "          s.onload = () => {\n",
       "            VEGA_DEBUG[key] = version;\n",
       "            return resolve(paths[lib]);\n",
       "          };\n",
       "          s.onerror = () => reject(`Error loading script: ${paths[lib]}`);\n",
       "          s.src = paths[lib];\n",
       "        });\n",
       "    }\n",
       "\n",
       "    function showError(err) {\n",
       "      outputDiv.innerHTML = `<div class=\"error\" style=\"color:red;\">${err}</div>`;\n",
       "      throw err;\n",
       "    }\n",
       "\n",
       "    function displayChart(vegaEmbed) {\n",
       "      vegaEmbed(outputDiv, spec, embedOpt)\n",
       "        .catch(err => showError(`Javascript Error: ${err.message}<br>This usually means there's a typo in your chart specification. See the javascript console for the full traceback.`));\n",
       "    }\n",
       "\n",
       "    if(typeof define === \"function\" && define.amd) {\n",
       "      requirejs.config({paths});\n",
       "      let deps = [\"vega-embed\"];\n",
       "      require(deps, displayChart, err => showError(`Error loading script: ${err.message}`));\n",
       "    } else {\n",
       "      maybeLoadScript(\"vega\", \"5\")\n",
       "        .then(() => maybeLoadScript(\"vega-lite\", \"5.20.1\"))\n",
       "        .then(() => maybeLoadScript(\"vega-embed\", \"6\"))\n",
       "        .catch(showError)\n",
       "        .then(() => displayChart(vegaEmbed));\n",
       "    }\n",
       "  })({\"config\": {\"view\": {\"continuousWidth\": 300, \"continuousHeight\": 300}}, \"data\": {\"name\": \"data-f9085ae5de8651a9e3f2828a48c8b6e9\"}, \"mark\": {\"type\": \"bar\"}, \"encoding\": {\"color\": {\"field\": \"Region\", \"type\": \"nominal\"}, \"tooltip\": [{\"field\": \"Variant_Group\", \"type\": \"nominal\"}, {\"field\": \"Region\", \"type\": \"nominal\"}, {\"field\": \"Converted\", \"type\": \"quantitative\"}], \"x\": {\"field\": \"Variant_Group\", \"title\": \"CTA Variant\", \"type\": \"nominal\"}, \"y\": {\"field\": \"Converted\", \"title\": \"Total Conversions\", \"type\": \"quantitative\"}}, \"height\": 400, \"title\": \"Conversion by CTA Variant and Region\", \"width\": 600, \"$schema\": \"https://vega.github.io/schema/vega-lite/v5.20.1.json\", \"datasets\": {\"data-f9085ae5de8651a9e3f2828a48c8b6e9\": [{\"Variant_Group\": \"Blue_Button_Get_Started\", \"Region\": \"Asia\", \"Converted\": 20060}, {\"Variant_Group\": \"Blue_Button_Get_Started\", \"Region\": \"Europe\", \"Converted\": 24947}, {\"Variant_Group\": \"Blue_Button_Get_Started\", \"Region\": \"North America\", \"Converted\": 35077}, {\"Variant_Group\": \"Blue_Button_Get_Started\", \"Region\": \"Rest of the World\", \"Converted\": 19948}, {\"Variant_Group\": \"Blue_Button_Join_Now\", \"Region\": \"Asia\", \"Converted\": 35043}, {\"Variant_Group\": \"Blue_Button_Join_Now\", \"Region\": \"Europe\", \"Converted\": 43816}, {\"Variant_Group\": \"Blue_Button_Join_Now\", \"Region\": \"North America\", \"Converted\": 61351}, {\"Variant_Group\": \"Blue_Button_Join_Now\", \"Region\": \"Rest of the World\", \"Converted\": 34945}, {\"Variant_Group\": \"Green_Button_Get_Started\", \"Region\": \"Asia\", \"Converted\": 30204}, {\"Variant_Group\": \"Green_Button_Get_Started\", \"Region\": \"Europe\", \"Converted\": 37600}, {\"Variant_Group\": \"Green_Button_Get_Started\", \"Region\": \"North America\", \"Converted\": 52424}, {\"Variant_Group\": \"Green_Button_Get_Started\", \"Region\": \"Rest of the World\", \"Converted\": 30029}, {\"Variant_Group\": \"Green_Button_Join_Now\", \"Region\": \"Asia\", \"Converted\": 44865}, {\"Variant_Group\": \"Green_Button_Join_Now\", \"Region\": \"Europe\", \"Converted\": 56615}, {\"Variant_Group\": \"Green_Button_Join_Now\", \"Region\": \"North America\", \"Converted\": 78918}, {\"Variant_Group\": \"Green_Button_Join_Now\", \"Region\": \"Rest of the World\", \"Converted\": 45509}]}}, {\"mode\": \"vega-lite\"});\n",
       "</script>"
      ],
      "text/plain": [
       "alt.Chart(...)"
      ]
     },
     "metadata": {},
     "output_type": "display_data"
    }
   ],
   "source": [
    "cta_region_conversion = data.groupby(['Variant_Group', 'Region'])['Converted'].sum().reset_index()\n",
    "\n",
    "stacked_bar_cta_region = alt.Chart(cta_region_conversion).mark_bar().encode(\n",
    "    x=alt.X('Variant_Group:N', title='CTA Variant'),\n",
    "    y=alt.Y('Converted:Q', title='Total Conversions'),\n",
    "    color='Region:N',\n",
    "    tooltip=['Variant_Group:N', 'Region:N', 'Converted:Q']\n",
    ").properties(\n",
    "    title='Conversion by CTA Variant and Region',\n",
    "    height = 400,\n",
    "    width = 600\n",
    ")\n",
    "\n",
    "stacked_bar_cta_region.show()\n"
   ]
  },
  {
   "cell_type": "markdown",
   "id": "c765f6c4",
   "metadata": {},
   "source": [
    "## Sample Size and Power Calculation"
   ]
  },
  {
   "cell_type": "code",
   "execution_count": 1,
   "id": "2193f62a",
   "metadata": {},
   "outputs": [
    {
     "name": "stdout",
     "output_type": "stream",
     "text": [
      "Minimum sample size needed per group: 3532 users\n"
     ]
    }
   ],
   "source": [
    "from statsmodels.stats.power import NormalIndPower\n",
    "\n",
    "baseline_rate = 0.10  \n",
    "min_detectable_effect = 0.02  \n",
    "alpha = 0.05  \n",
    "power = 0.8   \n",
    "\n",
    "analysis = NormalIndPower()\n",
    "effect_size = min_detectable_effect / (baseline_rate * (1 - baseline_rate))**0.5\n",
    "sample_size_per_group = analysis.solve_power(effect_size=effect_size, alpha=alpha, power=power, alternative='two-sided')\n",
    "\n",
    "print(f\"Minimum sample size needed per group: {round(sample_size_per_group)} users\")"
   ]
  },
  {
   "cell_type": "markdown",
   "id": "bd25c10a",
   "metadata": {},
   "source": [
    "`Sample size of 3532 users per group ensures an 80% chance of detecting a 2% difference in conversion rates with a 5% significance level, providing reliable results and minimizing the risk of false positives.`"
   ]
  },
  {
   "cell_type": "markdown",
   "id": "cb871f40",
   "metadata": {},
   "source": [
    "## Statistical Testing of A/B Testing"
   ]
  },
  {
   "cell_type": "markdown",
   "id": "4dd21b92",
   "metadata": {},
   "source": [
    "### 📊 Chi-Square Test (CTA Variant vs Conversion)"
   ]
  },
  {
   "cell_type": "markdown",
   "id": "efb44ecc",
   "metadata": {},
   "source": [
    "**Assumptions for Chi-Square Test**\n",
    "\n",
    "- **Independence**: Observations are independent of one another.\n",
    "- **Sample Size**: Sufficiently `large sample size` per group `(n > 30)` for `normal approximation`.\n",
    "- **Mutually Exclusive**: Categories are `mutually exclusive` and `collectively exhaustive`.\n",
    "\n",
    "\n",
    "**Purpose:**\n",
    "- The Chi-Square Test is used to assess whether there is a `significant relationship` between `CTA variant` (`Variant_Group`) and `conversion status` (`Converted`).\n",
    "\n",
    "**Hypotheses:**\n",
    "- **Null Hypothesis (H₀):** `There is no relationship between CTA Variant and Conversion.`\n",
    "\n",
    "- **Alternative Hypothesis (H₁):** `There is a relationship between CTA Variant and Conversion.`"
   ]
  },
  {
   "cell_type": "code",
   "execution_count": 12,
   "id": "c0baa4f1",
   "metadata": {},
   "outputs": [
    {
     "name": "stdout",
     "output_type": "stream",
     "text": [
      "Chi-Square Statistic: 58239.08694630726\n",
      "P-Value: 0.0\n",
      "Degrees of Freedom: 3\n",
      "Conclusion: Significant relationship between CTA Variant and Conversion (Reject Null Hypothesis).\n"
     ]
    }
   ],
   "source": [
    "from scipy.stats import chi2_contingency\n",
    "\n",
    "contingency_table = pd.crosstab(data['Variant_Group'], data['Converted'])\n",
    "chi2, p, dof, expected = chi2_contingency(contingency_table)\n",
    "\n",
    "print(f\"Chi-Square Statistic: {chi2}\")\n",
    "print(f\"P-Value: {p}\")\n",
    "print(f\"Degrees of Freedom: {dof}\")\n",
    "\n",
    "if p < 0.05:\n",
    "    print(\"Conclusion: Significant relationship between CTA Variant and Conversion (Reject Null Hypothesis).\")\n",
    "else:\n",
    "    print(\"Conclusion: No significant relationship (Fail to Reject Null Hypothesis).\")\n"
   ]
  },
  {
   "cell_type": "markdown",
   "id": "a6600a54",
   "metadata": {},
   "source": [
    "### 📊 Z-Test for Two Proportions (Compare Two CTA Variants)"
   ]
  },
  {
   "cell_type": "markdown",
   "id": "409de3f1",
   "metadata": {},
   "source": [
    "**Assumptions for Z-Test**\n",
    "\n",
    "- **Independence**: Observations are `independent of one another`.\n",
    "- **Sample Size**: Sufficiently `large sample size` per group `(n > 30)` for `normal approximation`.\n",
    "\n",
    "\n",
    "**Purpose:**\n",
    "To compare the conversion rates between two specific `CTA variants`. For example, `comparing Green_Button_Get_Started` and `Blue_Button_Get_Started`.\n",
    "\n",
    "**Hypotheses:**\n",
    "\n",
    "- **Null Hypothesis (H₀):** `There is no significant difference between the conversion rates of the two CTA variants.`\n",
    "\n",
    "- **Alternative Hypothesis (H₁):** `There is a significant difference between the conversion rates of the two CTA variants.`\n",
    "\n"
   ]
  },
  {
   "cell_type": "code",
   "execution_count": 13,
   "id": "e349c7bf",
   "metadata": {},
   "outputs": [
    {
     "name": "stdout",
     "output_type": "stream",
     "text": [
      "Z-Statistic: 106.21196931980978\n",
      "P-Value: 0.0\n",
      "Conclusion: Significant difference between the two CTA variants (Reject Null Hypothesis).\n"
     ]
    }
   ],
   "source": [
    "from statsmodels.stats.proportion import proportions_ztest\n",
    "\n",
    "group1 = data[data['Variant_Group'] == 'Green_Button_Get_Started']\n",
    "group2 = data[data['Variant_Group'] == 'Blue_Button_Get_Started']\n",
    "\n",
    "successes = [group1['Converted'].sum(), group2['Converted'].sum()]\n",
    "nobs = [len(group1), len(group2)]\n",
    "\n",
    "z_stat, p_val = proportions_ztest(successes, nobs)\n",
    "\n",
    "print(f\"Z-Statistic: {z_stat}\")\n",
    "print(f\"P-Value: {p_val}\")\n",
    "\n",
    "if p_val < 0.05:\n",
    "    print(\"Conclusion: Significant difference between the two CTA variants (Reject Null Hypothesis).\")\n",
    "else:\n",
    "    print(\"Conclusion: No significant difference (Fail to Reject Null Hypothesis).\")\n"
   ]
  },
  {
   "cell_type": "markdown",
   "id": "0236a413",
   "metadata": {},
   "source": [
    "###  📊 ANOVA (Across All CTA Variants)"
   ]
  },
  {
   "cell_type": "markdown",
   "id": "f32082df",
   "metadata": {},
   "source": [
    "**Assumptions for ANOVA**\n",
    "\n",
    "- **Independence**: Observations are `independent of one another`.\n",
    "- **Sample Size**: Sufficiently `large sample size` per group `(n > 30)` for normal approximation.\n",
    "- **Homogeneity of Variance**: The variance among groups is assumed to be roughly equal.\n",
    "\n",
    "**Purpose:**\n",
    "The ANOVA test is used to determine if there is a significant difference in conversion rates across multiple `CTA variants`. We want to test if the conversion rates differ for `Green_Button_Get_Started`, `Blue_Button_Get_Started`, `Green_Button_Join_Now`, and `Blue_Button_Join_Now`.\n",
    "\n",
    "**Hypotheses:**\n",
    "\n",
    "- **Null Hypothesis (H₀):** `All CTA variants have the same conversion rates.`\n",
    "\n",
    "- **Alternative Hypothesis (H₁):** `At least one CTA variant has a different conversion rate.`\n"
   ]
  },
  {
   "cell_type": "code",
   "execution_count": 14,
   "id": "590d27fe",
   "metadata": {},
   "outputs": [
    {
     "name": "stdout",
     "output_type": "stream",
     "text": [
      "F-Statistic: 19641.797522417222\n",
      "P-Value: 0.0\n",
      "Conclusion: Significant difference in conversion rates across CTA variants (Reject Null Hypothesis).\n"
     ]
    }
   ],
   "source": [
    "from scipy.stats import f_oneway\n",
    "\n",
    "group1 = data[data['Variant_Group'] == 'Green_Button_Get_Started']['Converted']\n",
    "group2 = data[data['Variant_Group'] == 'Blue_Button_Get_Started']['Converted']\n",
    "group3 = data[data['Variant_Group'] == 'Green_Button_Join_Now']['Converted']\n",
    "group4 = data[data['Variant_Group'] == 'Blue_Button_Join_Now']['Converted']\n",
    "\n",
    "f_stat, p_val = f_oneway(group1, group2, group3, group4)\n",
    "\n",
    "print(f\"F-Statistic: {f_stat}\")\n",
    "print(f\"P-Value: {p_val}\")\n",
    "\n",
    "if p_val < 0.05:\n",
    "    print(\"Conclusion: Significant difference in conversion rates across CTA variants (Reject Null Hypothesis).\")\n",
    "else:\n",
    "    print(\"Conclusion: No significant difference (Fail to Reject Null Hypothesis).\")\n"
   ]
  },
  {
   "cell_type": "markdown",
   "id": "d375b173",
   "metadata": {},
   "source": [
    "### Logistic Regression Analysis"
   ]
  },
  {
   "cell_type": "code",
   "execution_count": 24,
   "id": "2ab5f9b4",
   "metadata": {},
   "outputs": [
    {
     "name": "stdout",
     "output_type": "stream",
     "text": [
      "Optimization terminated successfully.\n",
      "         Current function value: 0.420211\n",
      "         Iterations 6\n",
      "                           Logit Regression Results                           \n",
      "==============================================================================\n",
      "Dep. Variable:              Converted   No. Observations:              5000000\n",
      "Model:                          Logit   Df Residuals:                  4999993\n",
      "Method:                           MLE   Df Model:                            6\n",
      "Date:                Sun, 27 Apr 2025   Pseudo R-squ.:                -0.08610\n",
      "Time:                        17:12:42   Log-Likelihood:            -2.1011e+06\n",
      "converged:                       True   LL-Null:                   -1.9345e+06\n",
      "Covariance Type:            nonrobust   LLR p-value:                     1.000\n",
      "==========================================================================================================\n",
      "                                             coef    std err          z      P>|z|      [0.025      0.975]\n",
      "----------------------------------------------------------------------------------------------------------\n",
      "Variant_Group_Blue_Button_Join_Now        -0.6103      0.003   -200.419      0.000      -0.616      -0.604\n",
      "Variant_Group_Green_Button_Get_Started    -0.7940      0.003   -249.451      0.000      -0.800      -0.788\n",
      "Variant_Group_Green_Button_Join_Now       -0.2902      0.003   -101.421      0.000      -0.296      -0.285\n",
      "Device_Type_Mobile                        -0.6791      0.002   -302.558      0.000      -0.683      -0.675\n",
      "Region_Europe                             -1.1423      0.003   -371.713      0.000      -1.148      -1.136\n",
      "Region_North America                      -1.1426      0.003   -420.448      0.000      -1.148      -1.137\n",
      "Region_Rest of the World                  -1.1410      0.003   -340.130      0.000      -1.148      -1.134\n",
      "==========================================================================================================\n",
      "                           Logit Regression Results                           \n",
      "==============================================================================\n",
      "Dep. Variable:              Converted   No. Observations:              5000000\n",
      "Model:                          Logit   Df Residuals:                  4999993\n",
      "Method:                           MLE   Df Model:                            6\n",
      "Date:                Sun, 27 Apr 2025   Pseudo R-squ.:                -0.08610\n",
      "Time:                        17:12:42   Log-Likelihood:            -2.1011e+06\n",
      "converged:                       True   LL-Null:                   -1.9345e+06\n",
      "Covariance Type:            nonrobust   LLR p-value:                     1.000\n",
      "==========================================================================================================\n",
      "                                             coef    std err          z      P>|z|      [0.025      0.975]\n",
      "----------------------------------------------------------------------------------------------------------\n",
      "Variant_Group_Blue_Button_Join_Now        -0.6103      0.003   -200.419      0.000      -0.616      -0.604\n",
      "Variant_Group_Green_Button_Get_Started    -0.7940      0.003   -249.451      0.000      -0.800      -0.788\n",
      "Variant_Group_Green_Button_Join_Now       -0.2902      0.003   -101.421      0.000      -0.296      -0.285\n",
      "Device_Type_Mobile                        -0.6791      0.002   -302.558      0.000      -0.683      -0.675\n",
      "Region_Europe                             -1.1423      0.003   -371.713      0.000      -1.148      -1.136\n",
      "Region_North America                      -1.1426      0.003   -420.448      0.000      -1.148      -1.137\n",
      "Region_Rest of the World                  -1.1410      0.003   -340.130      0.000      -1.148      -1.134\n",
      "==========================================================================================================\n"
     ]
    }
   ],
   "source": [
    "import statsmodels.api as sm\n",
    "import pandas as pd\n",
    "\n",
    "data_encoded = pd.get_dummies(data[['Variant_Group', 'Device_Type', 'Region']], drop_first=True)\n",
    "\n",
    "X = data_encoded\n",
    "y = data['Converted']\n",
    "\n",
    "X = X.apply(pd.to_numeric, errors='coerce')\n",
    "y = pd.to_numeric(y, errors='coerce')\n",
    "\n",
    "X = X.dropna()\n",
    "y = y[X.index]  \n",
    "\n",
    "logit_model = sm.Logit(y, X)\n",
    "result = logit_model.fit()\n",
    "\n",
    "print(result.summary())"
   ]
  },
  {
   "cell_type": "markdown",
   "id": "a0737312",
   "metadata": {},
   "source": [
    "## 📊 Result Reporting"
   ]
  },
  {
   "cell_type": "markdown",
   "id": "b9f79e92",
   "metadata": {},
   "source": [
    "**Chi-Square Test Results (CTA Variant vs Conversion)**\n",
    "\n",
    "- **Chi-Square Statistic:** `58239.08`\n",
    "\n",
    "- **Degrees of Freedom:** `3`\n",
    "\n",
    "- **P-Value:** `0.0`\n",
    "\n",
    "**Conclusion:**\n",
    "`Since the p-value is less than 0.05, we reject the null hypothesis. There is a significant relationship between the CTA variant and user conversion. This indicates that the CTA variant affects the likelihood of a user completing the desired action (conversion).`\n",
    "\n",
    "**Z-Test for Two Proportions (Comparing Two CTA Variants)**\n",
    "\n",
    "- **Z-Statistic:** `106.21`\n",
    "\n",
    "- **P-Value:** `0.0`\n",
    "\n",
    "**Conclusion:**\n",
    "`Since the p-value is significantly smaller than 0.05, we reject the null hypothesis. There is a significant difference in conversion rates between the two CTA variants being compared. This suggests that one CTA variant is performing better than the other in terms of conversions.`\n",
    "\n",
    "**ANOVA Test Results (Across All CTA Variants)**\n",
    "\n",
    "- **F-Statistic:** `19641.79`\n",
    "\n",
    "- **P-Value:** `0.0`\n",
    "\n",
    "**Conclusion:**\n",
    "`Since the p-value is less than 0.05, we reject the null hypothesis. There is a significant difference in the conversion rates across the CTA variants. This means that at least one CTA variant performs differently from the others.`\n",
    "\n",
    "**Logistic Regression Analysis Results**\n",
    "\n",
    "\n",
    "- The logistic regression model identified significant predictors for conversion, including `Variant_Group`, `Device_Type`, and `Region`.\n",
    "\n",
    "- The `Green_Button_Get_Started` variant showed the strongest positive association with conversion rates.\n",
    "\n",
    "- Mobile users had a slightly lower likelihood of conversion compared to `desktop users`, highlighting the need for mobile optimization.\n",
    "\n",
    "**Conclusion:**\n",
    "\n",
    "`The CTA design, especially color and text, plays a key role in conversion. Mobile optimization and regional customization are essential to increase conversion rates, particularly in Europe, North America, and Rest of the World.`"
   ]
  },
  {
   "cell_type": "markdown",
   "id": "94ffc919",
   "metadata": {},
   "source": [
    "## 💡 Recommendations"
   ]
  },
  {
   "cell_type": "markdown",
   "id": "d22ebfe0",
   "metadata": {},
   "source": [
    "- **Using the Best Performing CTA:**\n",
    "\n",
    "    - `Green_Button_Get_Started` performs better than others. Focus on this `CTA design` for `higher conversions`.\n",
    "\n",
    "- **Test Different Texts:**\n",
    "\n",
    "    - Experiment with different texts like `“Join Now”` to further improve `conversion rates`, especially with `high-performing colors`.\n",
    "\n",
    "- **Optimize for Mobile:**\n",
    "\n",
    "    - Mobile users exhibit lower conversion rates. Optimize the `CTA design` for `mobile screens` to improve the `conversion rate` on `mobile devices`.\n",
    "\n",
    "- **Tailor CTAs for Regions:**\n",
    "\n",
    "    - `Europe`, `North America`, and the `Rest of the World` show significantly `lower conversion rates` compared to `Asia`. It would be beneficial to customize the `CTA design` for specific regions to `increase engagement` and `conversion rates`.\n",
    "\n",
    "- **Continue Testing:**\n",
    "\n",
    "    - Regularly test `new variants` to maintain or improve `conversion rates` as `user behavior` evolves."
   ]
  },
  {
   "cell_type": "markdown",
   "id": "5df0a542",
   "metadata": {},
   "source": [
    "## 📋 Final Conclusion"
   ]
  },
  {
   "cell_type": "markdown",
   "id": "9f89a3a1",
   "metadata": {},
   "source": [
    "- CTA design `(color and text)` significantly influences user conversions. `Green_Button_Get_Started` is the least effective in terms of `conversion rates`, and `mobile users` show a lower probability of converting.\n",
    "\n",
    "- Regional differences are significant, with `Europe`, `North America`, and `Rest of the World` having lower conversion odds compared to `Asia`.\n",
    "\n",
    "- Customizing the CTA for `mobile users` and `regional preferences` could improve the `conversion rates` substantially.\n",
    "\n",
    "- Regular `A/B testing` is necessary to refine `CTA performance` as `user behavior continues to evolve`."
   ]
  }
 ],
 "metadata": {
  "kernelspec": {
   "display_name": "venv",
   "language": "python",
   "name": "python3"
  },
  "language_info": {
   "codemirror_mode": {
    "name": "ipython",
    "version": 3
   },
   "file_extension": ".py",
   "mimetype": "text/x-python",
   "name": "python",
   "nbconvert_exporter": "python",
   "pygments_lexer": "ipython3",
   "version": "3.13.2"
  }
 },
 "nbformat": 4,
 "nbformat_minor": 5
}
